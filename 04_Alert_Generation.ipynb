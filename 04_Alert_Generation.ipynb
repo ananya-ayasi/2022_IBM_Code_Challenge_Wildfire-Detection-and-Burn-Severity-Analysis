{
  "nbformat": 4,
  "nbformat_minor": 0,
  "metadata": {
    "colab": {
      "name": "04_Alert_Generation.ipynb",
      "provenance": []
    },
    "kernelspec": {
      "name": "python3",
      "display_name": "Python 3"
    },
    "language_info": {
      "name": "python"
    }
  },
  "cells": [
    {
      "cell_type": "markdown",
      "source": [
        "This notebook deals with generation of automated alert"
      ],
      "metadata": {
        "id": "SApLkrbWp7A4"
      }
    },
    {
      "cell_type": "code",
      "source": [
        "lat,lon=38.829592, 23.344883"
      ],
      "metadata": {
        "id": "JsW5Dp9sqWAe"
      },
      "execution_count": null,
      "outputs": []
    },
    {
      "cell_type": "code",
      "source": [
        "#sending email\n",
        "import smtplib\n",
        "  \n",
        "# creates SMTP session\n",
        "s = smtplib.SMTP('smtp.gmail.com', 587)\n",
        "  \n",
        "# start TLS for security\n",
        "s.starttls()\n",
        "  \n",
        "# Authentication\n",
        "s.login(\"ibmislgtp2022@gmail.com\", \"RESHMA#00\")\n",
        "  \n",
        "# message to be sent\n",
        "message = ('''FIRE DETECTED AT {},{}.SEND HELP IMMEDIATELY'''.format(lat,lon))\n",
        "  \n",
        "# sending the mail\n",
        "s.sendmail(\"ibmislgtp2022@gmail.com\", \"disastermanagementeamibmisl@gmail.com\", message)\n",
        "  \n",
        "# terminating the session\n",
        "s.quit()"
      ],
      "metadata": {
        "id": "BoOJov5yC1s7",
        "outputId": "229a7af1-f535-4978-a593-c10ab8fc1794",
        "colab": {
          "base_uri": "https://localhost:8080/"
        }
      },
      "execution_count": null,
      "outputs": [
        {
          "output_type": "execute_result",
          "data": {
            "text/plain": [
              "(221,\n",
              " b'2.0.0 closing connection u4-20020a170902714400b0015e8d4eb230sm1919699plm.122 - gsmtp')"
            ]
          },
          "metadata": {},
          "execution_count": 2
        }
      ]
    }
  ]
}